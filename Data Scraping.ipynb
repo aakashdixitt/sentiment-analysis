{
 "cells": [
  {
   "cell_type": "code",
   "execution_count": 1,
   "id": "d67521d7",
   "metadata": {},
   "outputs": [
    {
     "name": "stderr",
     "output_type": "stream",
     "text": [
      "[nltk_data] Downloading package stopwords to\n",
      "[nltk_data]     C:\\Users\\PC\\AppData\\Roaming\\nltk_data...\n",
      "[nltk_data]   Package stopwords is already up-to-date!\n",
      "[nltk_data] Downloading package vader_lexicon to\n",
      "[nltk_data]     C:\\Users\\PC\\AppData\\Roaming\\nltk_data...\n",
      "[nltk_data]   Package vader_lexicon is already up-to-date!\n"
     ]
    }
   ],
   "source": [
    "from bs4 import BeautifulSoup\n",
    "import requests\n",
    "import pandas as pd\n",
    "import numpy as np\n",
    "import string\n",
    "import seaborn as sns\n",
    "import matplotlib.pyplot as plt\n",
    "from sklearn.feature_extraction.text import TfidfVectorizer\n",
    "from nltk.tokenize import RegexpTokenizer\n",
    "from sklearn.feature_extraction.text import CountVectorizer\n",
    "from nltk.corpus import stopwords\n",
    "import nltk\n",
    "nltk.download('stopwords')\n",
    "nltk.download('vader_lexicon')\n",
    "from sklearn.cluster import KMeans\n",
    "from sklearn import metrics\n",
    "from nltk.sentiment.vader import SentimentIntensityAnalyzer\n",
    "\n",
    "reviews= []\n",
    "rating = []\n",
    "date = []\n",
    "country = []\n"
   ]
  },
  {
   "cell_type": "code",
   "execution_count": 2,
   "id": "94f7f73b",
   "metadata": {},
   "outputs": [
    {
     "name": "stdout",
     "output_type": "stream",
     "text": [
      "   ---> 3616 total reviews\n"
     ]
    }
   ],
   "source": [
    "base_url = 'https://www.airlinequality.com/airline-reviews/british-airways/'\n",
    "pages = 37\n",
    "page_size = 100\n",
    "\n",
    "reviews = []\n",
    "\n",
    "for i in range(1, pages+1):\n",
    "    url = f'{base_url}/page/{i}/?sortby=post_date%3ADesc&pagesize={page_size}'\n",
    "    response = requests.get(url)\n",
    "    content = response.content\n",
    "    parsed_content = BeautifulSoup(content, 'html.parser')\n",
    "    for para in parsed_content.find_all('div', {'class': 'text_content'}):\n",
    "        reviews.append(para.get_text())\n",
    "    \n",
    "print(f'   ---> {len(reviews)} total reviews')"
   ]
  },
  {
   "cell_type": "code",
   "execution_count": 3,
   "id": "6e8a0fa9",
   "metadata": {},
   "outputs": [
    {
     "data": {
      "text/html": [
       "<div>\n",
       "<style scoped>\n",
       "    .dataframe tbody tr th:only-of-type {\n",
       "        vertical-align: middle;\n",
       "    }\n",
       "\n",
       "    .dataframe tbody tr th {\n",
       "        vertical-align: top;\n",
       "    }\n",
       "\n",
       "    .dataframe thead th {\n",
       "        text-align: right;\n",
       "    }\n",
       "</style>\n",
       "<table border=\"1\" class=\"dataframe\">\n",
       "  <thead>\n",
       "    <tr style=\"text-align: right;\">\n",
       "      <th></th>\n",
       "      <th>reviews</th>\n",
       "    </tr>\n",
       "  </thead>\n",
       "  <tbody>\n",
       "    <tr>\n",
       "      <th>0</th>\n",
       "      <td>✅ Trip Verified |  I had the most fantastic BA...</td>\n",
       "    </tr>\n",
       "    <tr>\n",
       "      <th>1</th>\n",
       "      <td>✅ Trip Verified |  Couldn’t book in online. Ar...</td>\n",
       "    </tr>\n",
       "    <tr>\n",
       "      <th>2</th>\n",
       "      <td>✅ Trip Verified | London Heathrow to Mumbai in...</td>\n",
       "    </tr>\n",
       "    <tr>\n",
       "      <th>3</th>\n",
       "      <td>✅ Trip Verified | Keflavík, Iceland to London ...</td>\n",
       "    </tr>\n",
       "    <tr>\n",
       "      <th>4</th>\n",
       "      <td>✅ Trip Verified | Terrible Experience with Bri...</td>\n",
       "    </tr>\n",
       "    <tr>\n",
       "      <th>...</th>\n",
       "      <td>...</td>\n",
       "    </tr>\n",
       "    <tr>\n",
       "      <th>3611</th>\n",
       "      <td>LHR-JFK-LAX-LHR. Check in was ok apart from be...</td>\n",
       "    </tr>\n",
       "    <tr>\n",
       "      <th>3612</th>\n",
       "      <td>LHR to HAM. Purser addresses all club passenge...</td>\n",
       "    </tr>\n",
       "    <tr>\n",
       "      <th>3613</th>\n",
       "      <td>My son who had worked for British Airways urge...</td>\n",
       "    </tr>\n",
       "    <tr>\n",
       "      <th>3614</th>\n",
       "      <td>London City-New York JFK via Shannon on A318 b...</td>\n",
       "    </tr>\n",
       "    <tr>\n",
       "      <th>3615</th>\n",
       "      <td>SIN-LHR BA12 B747-436 First Class. Old aircraf...</td>\n",
       "    </tr>\n",
       "  </tbody>\n",
       "</table>\n",
       "<p>3616 rows × 1 columns</p>\n",
       "</div>"
      ],
      "text/plain": [
       "                                                reviews\n",
       "0     ✅ Trip Verified |  I had the most fantastic BA...\n",
       "1     ✅ Trip Verified |  Couldn’t book in online. Ar...\n",
       "2     ✅ Trip Verified | London Heathrow to Mumbai in...\n",
       "3     ✅ Trip Verified | Keflavík, Iceland to London ...\n",
       "4     ✅ Trip Verified | Terrible Experience with Bri...\n",
       "...                                                 ...\n",
       "3611  LHR-JFK-LAX-LHR. Check in was ok apart from be...\n",
       "3612  LHR to HAM. Purser addresses all club passenge...\n",
       "3613  My son who had worked for British Airways urge...\n",
       "3614  London City-New York JFK via Shannon on A318 b...\n",
       "3615  SIN-LHR BA12 B747-436 First Class. Old aircraf...\n",
       "\n",
       "[3616 rows x 1 columns]"
      ]
     },
     "execution_count": 3,
     "metadata": {},
     "output_type": "execute_result"
    }
   ],
   "source": [
    "data = pd.DataFrame()\n",
    "data['reviews'] = reviews\n",
    "data"
   ]
  },
  {
   "cell_type": "code",
   "execution_count": 4,
   "id": "cc41b11e",
   "metadata": {},
   "outputs": [],
   "source": [
    "data.to_csv('ba_reviews.csv')"
   ]
  },
  {
   "cell_type": "code",
   "execution_count": 5,
   "id": "7bb5131c",
   "metadata": {},
   "outputs": [
    {
     "data": {
      "text/plain": [
       "0       ✅ Trip Verified |  I had the most fantastic BA...\n",
       "1       ✅ Trip Verified |  Couldn’t book in online. Ar...\n",
       "2       ✅ Trip Verified | London Heathrow to Mumbai in...\n",
       "3       ✅ Trip Verified | Keflavík, Iceland to London ...\n",
       "4       ✅ Trip Verified | Terrible Experience with Bri...\n",
       "                              ...                        \n",
       "3611    LHR-JFK-LAX-LHR. Check in was ok apart from be...\n",
       "3612    LHR to HAM. Purser addresses all club passenge...\n",
       "3613    My son who had worked for British Airways urge...\n",
       "3614    London City-New York JFK via Shannon on A318 b...\n",
       "3615    SIN-LHR BA12 B747-436 First Class. Old aircraf...\n",
       "Name: reviews, Length: 3616, dtype: object"
      ]
     },
     "execution_count": 5,
     "metadata": {},
     "output_type": "execute_result"
    }
   ],
   "source": [
    "reviews = pd.read_csv('ba_reviews.csv')\n",
    "reviews = reviews.pop('reviews')\n",
    "reviews"
   ]
  },
  {
   "cell_type": "code",
   "execution_count": 6,
   "id": "c1449679",
   "metadata": {},
   "outputs": [],
   "source": [
    "def remove_punctuations(text):\n",
    "    for punctuation in string.punctuation:\n",
    "        text = text.replace(punctuation, '')\n",
    "    return text"
   ]
  },
  {
   "cell_type": "code",
   "execution_count": 7,
   "id": "c08353d9",
   "metadata": {},
   "outputs": [
    {
     "name": "stderr",
     "output_type": "stream",
     "text": [
      "C:\\Users\\PC\\AppData\\Local\\Temp/ipykernel_8736/2776793585.py:1: FutureWarning: The default value of regex will change from True to False in a future version.\n",
      "  reviews = reviews.str.replace('Trip Verified |', '')\n",
      "C:\\Users\\PC\\AppData\\Local\\Temp/ipykernel_8736/2776793585.py:4: FutureWarning: The default value of regex will change from True to False in a future version. In addition, single character regular expressions will *not* be treated as literal strings when regex=True.\n",
      "  reviews = reviews.str.replace('|','')\n",
      "C:\\Users\\PC\\AppData\\Local\\Temp/ipykernel_8736/2776793585.py:5: FutureWarning: The default value of regex will change from True to False in a future version.\n",
      "  reviews = reviews.str.replace(r'\\b(\\w{1,3})\\b', '')\n"
     ]
    },
    {
     "data": {
      "text/plain": [
       "0             most fantastic  Flight today  cabin crew...\n",
       "1          Couldn’ book  online Arrived  check   find ...\n",
       "2         London Heathrow  Mumbai   Boeing   Business ...\n",
       "3         Keflavík Iceland  London Heathrow   A320  Bu...\n",
       "4         Terrible Experience with British Airways  bo...\n",
       "                              ...                        \n",
       "3611     Check    apart from being snapped   being  ea...\n",
       "3612       Purser addresses  club passengers  name boa...\n",
       "3613        worked  British Airways urged    British A...\n",
       "3614    London City York   Shannon  A318   really nice...\n",
       "3615     BA12 B747 First Class  aircraft 1998 with sea...\n",
       "Name: reviews, Length: 3616, dtype: object"
      ]
     },
     "execution_count": 7,
     "metadata": {},
     "output_type": "execute_result"
    }
   ],
   "source": [
    "reviews = reviews.str.replace('Trip Verified |', '')\n",
    "reviews = reviews.str.replace('Verified', '')\n",
    "reviews = reviews.str.replace('✅', '')\n",
    "reviews = reviews.str.replace('|','')\n",
    "reviews = reviews.str.replace(r'\\b(\\w{1,3})\\b', '')\n",
    "reviews = reviews.apply(remove_punctuations)\n",
    "reviews"
   ]
  },
  {
   "cell_type": "code",
   "execution_count": 8,
   "id": "9f5e9a66",
   "metadata": {},
   "outputs": [
    {
     "data": {
      "text/plain": [
       "(3616,)"
      ]
     },
     "execution_count": 8,
     "metadata": {},
     "output_type": "execute_result"
    }
   ],
   "source": [
    "reviews.shape"
   ]
  },
  {
   "cell_type": "code",
   "execution_count": 9,
   "id": "bf625f24",
   "metadata": {},
   "outputs": [
    {
     "data": {
      "text/plain": [
       "flight      6532\n",
       "with        5791\n",
       "were        4374\n",
       "that        4285\n",
       "this        3545\n",
       "they        3528\n",
       "have        3295\n",
       "from        3044\n",
       "very        2790\n",
       "service     2758\n",
       "seat        2340\n",
       "food        2311\n",
       "london      2143\n",
       "crew        2110\n",
       "british     2102\n",
       "airways     2084\n",
       "seats       2063\n",
       "good        2037\n",
       "time        2017\n",
       "cabin       1934\n",
       "which       1868\n",
       "class       1830\n",
       "there       1734\n",
       "when        1543\n",
       "staff       1540\n",
       "business    1522\n",
       "heathrow    1497\n",
       "would       1480\n",
       "only        1448\n",
       "their       1414\n",
       "dtype: int64"
      ]
     },
     "execution_count": 9,
     "metadata": {},
     "output_type": "execute_result"
    }
   ],
   "source": [
    "words = pd.Series(' '. join(reviews).lower().split()).value_counts()[:30]\n",
    "words"
   ]
  },
  {
   "cell_type": "code",
   "execution_count": 10,
   "id": "04adaf41",
   "metadata": {},
   "outputs": [],
   "source": [
    "words_df = words.reset_index()\n",
    "words_df.columns = ['word', 'frequency']"
   ]
  },
  {
   "cell_type": "code",
   "execution_count": 11,
   "id": "fac93705",
   "metadata": {},
   "outputs": [
    {
     "data": {
      "text/plain": [
       "<AxesSubplot:xlabel='frequency', ylabel='word'>"
      ]
     },
     "execution_count": 11,
     "metadata": {},
     "output_type": "execute_result"
    },
    {
     "data": {
      "image/png": "[encoded data removed]",
      "text/plain": [
       "<Figure size 720x864 with 1 Axes>"
      ]
     },
     "metadata": {
      "needs_background": "light"
     },
     "output_type": "display_data"
    }
   ],
   "source": [
    "plt.figure(figsize=(10,12))\n",
    "sns.barplot(data = words_df, y = 'word', x = 'frequency',orient='h', palette='deep')"
   ]
  },
  {
   "cell_type": "code",
   "execution_count": 12,
   "id": "927243a0",
   "metadata": {},
   "outputs": [],
   "source": [
    "rev = reviews.to_frame()"
   ]
  },
  {
   "cell_type": "code",
   "execution_count": 13,
   "id": "2d614cfb",
   "metadata": {},
   "outputs": [
    {
     "data": {
      "text/plain": [
       "pandas.core.frame.DataFrame"
      ]
     },
     "execution_count": 13,
     "metadata": {},
     "output_type": "execute_result"
    }
   ],
   "source": [
    "type(rev)"
   ]
  },
  {
   "cell_type": "code",
   "execution_count": 14,
   "id": "c876ae8d",
   "metadata": {},
   "outputs": [
    {
     "data": {
      "text/html": [
       "<div>\n",
       "<style scoped>\n",
       "    .dataframe tbody tr th:only-of-type {\n",
       "        vertical-align: middle;\n",
       "    }\n",
       "\n",
       "    .dataframe tbody tr th {\n",
       "        vertical-align: top;\n",
       "    }\n",
       "\n",
       "    .dataframe thead th {\n",
       "        text-align: right;\n",
       "    }\n",
       "</style>\n",
       "<table border=\"1\" class=\"dataframe\">\n",
       "  <thead>\n",
       "    <tr style=\"text-align: right;\">\n",
       "      <th></th>\n",
       "      <th>reviews</th>\n",
       "    </tr>\n",
       "  </thead>\n",
       "  <tbody>\n",
       "    <tr>\n",
       "      <th>0</th>\n",
       "      <td>most fantastic  Flight today  cabin crew...</td>\n",
       "    </tr>\n",
       "    <tr>\n",
       "      <th>1</th>\n",
       "      <td>Couldn’ book  online Arrived  check   find ...</td>\n",
       "    </tr>\n",
       "    <tr>\n",
       "      <th>2</th>\n",
       "      <td>London Heathrow  Mumbai   Boeing   Business ...</td>\n",
       "    </tr>\n",
       "    <tr>\n",
       "      <th>3</th>\n",
       "      <td>Keflavík Iceland  London Heathrow   A320  Bu...</td>\n",
       "    </tr>\n",
       "    <tr>\n",
       "      <th>4</th>\n",
       "      <td>Terrible Experience with British Airways  bo...</td>\n",
       "    </tr>\n",
       "  </tbody>\n",
       "</table>\n",
       "</div>"
      ],
      "text/plain": [
       "                                             reviews\n",
       "0        most fantastic  Flight today  cabin crew...\n",
       "1     Couldn’ book  online Arrived  check   find ...\n",
       "2    London Heathrow  Mumbai   Boeing   Business ...\n",
       "3    Keflavík Iceland  London Heathrow   A320  Bu...\n",
       "4    Terrible Experience with British Airways  bo..."
      ]
     },
     "execution_count": 14,
     "metadata": {},
     "output_type": "execute_result"
    }
   ],
   "source": [
    "rev.head()"
   ]
  },
  {
   "cell_type": "code",
   "execution_count": 15,
   "id": "0e4d6576",
   "metadata": {},
   "outputs": [
    {
     "data": {
      "text/plain": [
       "0             most fantastic  flight today  cabin crew...\n",
       "1          couldn’ book  online arrived  check   find ...\n",
       "2         london heathrow  mumbai   boeing   business ...\n",
       "3         keflavík iceland  london heathrow   a320  bu...\n",
       "4         terrible experience with british airways  bo...\n",
       "                              ...                        \n",
       "3611     check    apart from being snapped   being  ea...\n",
       "3612       purser addresses  club passengers  name boa...\n",
       "3613        worked  british airways urged    british a...\n",
       "3614    london city york   shannon  a318   really nice...\n",
       "3615     ba12 b747 first class  aircraft 1998 with sea...\n",
       "Name: reviews, Length: 3616, dtype: object"
      ]
     },
     "execution_count": 15,
     "metadata": {},
     "output_type": "execute_result"
    }
   ],
   "source": [
    "rev['reviews'].str.lower()"
   ]
  },
  {
   "cell_type": "code",
   "execution_count": 16,
   "id": "15f63915",
   "metadata": {},
   "outputs": [
    {
     "name": "stderr",
     "output_type": "stream",
     "text": [
      "C:\\Users\\PC\\AppData\\Local\\Temp/ipykernel_8736/3323889834.py:1: FutureWarning: The default value of regex will change from True to False in a future version.\n",
      "  rev['reviews'] = rev['reviews'].str.replace('\\d+', '')\n"
     ]
    }
   ],
   "source": [
    "rev['reviews'] = rev['reviews'].str.replace('\\d+', '')"
   ]
  },
  {
   "cell_type": "code",
   "execution_count": 17,
   "id": "0f7ec5f7",
   "metadata": {},
   "outputs": [
    {
     "data": {
      "text/plain": [
       "<bound method NDFrame.head of                                                 reviews\n",
       "0           most fantastic  Flight today  cabin crew...\n",
       "1        Couldn’ book  online Arrived  check   find ...\n",
       "2       London Heathrow  Mumbai   Boeing   Business ...\n",
       "3       Keflavík Iceland  London Heathrow   A  Busin...\n",
       "4       Terrible Experience with British Airways  bo...\n",
       "...                                                 ...\n",
       "3611   Check    apart from being snapped   being  ea...\n",
       "3612     Purser addresses  club passengers  name boa...\n",
       "3613      worked  British Airways urged    British A...\n",
       "3614  London City York   Shannon  A   really nice se...\n",
       "3615   BA B First Class  aircraft  with seats that  ...\n",
       "\n",
       "[3616 rows x 1 columns]>"
      ]
     },
     "execution_count": 17,
     "metadata": {},
     "output_type": "execute_result"
    }
   ],
   "source": [
    "rev.head"
   ]
  },
  {
   "cell_type": "code",
   "execution_count": 18,
   "id": "9846b4f2",
   "metadata": {},
   "outputs": [],
   "source": [
    "stop = stopwords.words('english')"
   ]
  },
  {
   "cell_type": "code",
   "execution_count": 19,
   "id": "756fa5d2",
   "metadata": {},
   "outputs": [],
   "source": [
    "rev['reviews'] = rev['reviews'].apply(lambda x: ' '.join([word for word in x.split() if word not in (stop)]))"
   ]
  },
  {
   "cell_type": "code",
   "execution_count": 20,
   "id": "913f9e13",
   "metadata": {},
   "outputs": [
    {
     "data": {
      "text/html": [
       "<div>\n",
       "<style scoped>\n",
       "    .dataframe tbody tr th:only-of-type {\n",
       "        vertical-align: middle;\n",
       "    }\n",
       "\n",
       "    .dataframe tbody tr th {\n",
       "        vertical-align: top;\n",
       "    }\n",
       "\n",
       "    .dataframe thead th {\n",
       "        text-align: right;\n",
       "    }\n",
       "</style>\n",
       "<table border=\"1\" class=\"dataframe\">\n",
       "  <thead>\n",
       "    <tr style=\"text-align: right;\">\n",
       "      <th></th>\n",
       "      <th>reviews</th>\n",
       "    </tr>\n",
       "  </thead>\n",
       "  <tbody>\n",
       "    <tr>\n",
       "      <th>0</th>\n",
       "      <td>fantastic Flight today cabin crew seat zone be...</td>\n",
       "    </tr>\n",
       "    <tr>\n",
       "      <th>1</th>\n",
       "      <td>Couldn’ book online Arrived check find bumped ...</td>\n",
       "    </tr>\n",
       "    <tr>\n",
       "      <th>2</th>\n",
       "      <td>London Heathrow Mumbai Boeing Business Class l...</td>\n",
       "    </tr>\n",
       "    <tr>\n",
       "      <th>3</th>\n",
       "      <td>Keflavík Iceland London Heathrow A Business Cl...</td>\n",
       "    </tr>\n",
       "    <tr>\n",
       "      <th>4</th>\n",
       "      <td>Terrible Experience British Airways booked fli...</td>\n",
       "    </tr>\n",
       "  </tbody>\n",
       "</table>\n",
       "</div>"
      ],
      "text/plain": [
       "                                             reviews\n",
       "0  fantastic Flight today cabin crew seat zone be...\n",
       "1  Couldn’ book online Arrived check find bumped ...\n",
       "2  London Heathrow Mumbai Boeing Business Class l...\n",
       "3  Keflavík Iceland London Heathrow A Business Cl...\n",
       "4  Terrible Experience British Airways booked fli..."
      ]
     },
     "execution_count": 20,
     "metadata": {},
     "output_type": "execute_result"
    }
   ],
   "source": [
    "rev.head()"
   ]
  },
  {
   "cell_type": "code",
   "execution_count": 21,
   "id": "a2326dd5",
   "metadata": {},
   "outputs": [
    {
     "data": {
      "text/plain": [
       "flight        6532\n",
       "service       2758\n",
       "seat          2340\n",
       "food          2311\n",
       "london        2143\n",
       "crew          2110\n",
       "british       2102\n",
       "airways       2084\n",
       "seats         2063\n",
       "good          2037\n",
       "time          2017\n",
       "cabin         1934\n",
       "class         1830\n",
       "staff         1540\n",
       "business      1522\n",
       "heathrow      1497\n",
       "would         1480\n",
       "economy       1404\n",
       "first         1254\n",
       "check         1250\n",
       "flights       1151\n",
       "return        1095\n",
       "club          1068\n",
       "back          1047\n",
       "hours         1023\n",
       "plane         1017\n",
       "lounge        1001\n",
       "airline        993\n",
       "passengers     991\n",
       "boarding       981\n",
       "dtype: int64"
      ]
     },
     "execution_count": 21,
     "metadata": {},
     "output_type": "execute_result"
    }
   ],
   "source": [
    "words = pd.Series(' '. join(rev['reviews']).lower().split()).value_counts()[:30]\n",
    "words"
   ]
  },
  {
   "cell_type": "code",
   "execution_count": 22,
   "id": "b46c0205",
   "metadata": {},
   "outputs": [],
   "source": [
    "words_df = words.reset_index()\n",
    "words_df.columns = ['word', 'frequency']"
   ]
  },
  {
   "cell_type": "code",
   "execution_count": 23,
   "id": "b164f4c5",
   "metadata": {},
   "outputs": [
    {
     "data": {
      "text/plain": [
       "<AxesSubplot:xlabel='frequency', ylabel='word'>"
      ]
     },
     "execution_count": 23,
     "metadata": {},
     "output_type": "execute_result"
    },
    {
     "data": {
      "image/png": "[encoded data removed]",
      "text/plain": [
       "<Figure size 720x864 with 1 Axes>"
      ]
     },
     "metadata": {
      "needs_background": "light"
     },
     "output_type": "display_data"
    }
   ],
   "source": [
    "plt.figure(figsize=(10,12))\n",
    "sns.barplot(data = words_df, y = 'word', x = 'frequency',orient='h', palette='deep')"
   ]
  },
  {
   "cell_type": "code",
   "execution_count": 24,
   "id": "d3bbe682",
   "metadata": {},
   "outputs": [],
   "source": [
    "sent = SentimentIntensityAnalyzer()"
   ]
  },
  {
   "cell_type": "code",
   "execution_count": 25,
   "id": "6d4e1864",
   "metadata": {},
   "outputs": [],
   "source": [
    "polarity = [round(sent.polarity_scores(i)['compound'], 2) for i in rev['reviews']]"
   ]
  },
  {
   "cell_type": "code",
   "execution_count": 26,
   "id": "6a0d4953",
   "metadata": {},
   "outputs": [],
   "source": [
    "rev['sentiment_score'] = polarity"
   ]
  },
  {
   "cell_type": "code",
   "execution_count": 27,
   "id": "c18e3280",
   "metadata": {},
   "outputs": [
    {
     "data": {
      "text/plain": [
       "<bound method NDFrame.head of                                                 reviews  sentiment_score\n",
       "0     fantastic Flight today cabin crew seat zone be...             0.99\n",
       "1     Couldn’ book online Arrived check find bumped ...             0.71\n",
       "2     London Heathrow Mumbai Boeing Business Class l...             0.98\n",
       "3     Keflavík Iceland London Heathrow A Business Cl...             0.08\n",
       "4     Terrible Experience British Airways booked fli...             0.63\n",
       "...                                                 ...              ...\n",
       "3611  Check apart snapped early check come back minu...             0.46\n",
       "3612  Purser addresses club passengers name boarding...             0.77\n",
       "3613  worked British Airways urged British Airways K...             0.70\n",
       "3614  London City York Shannon A really nice seats p...             0.81\n",
       "3615  BA B First Class aircraft seats private cabin ...             0.36\n",
       "\n",
       "[3616 rows x 2 columns]>"
      ]
     },
     "execution_count": 27,
     "metadata": {},
     "output_type": "execute_result"
    }
   ],
   "source": [
    "rev.head"
   ]
  },
  {
   "cell_type": "code",
   "execution_count": 28,
   "id": "35e81e34",
   "metadata": {},
   "outputs": [
    {
     "data": {
      "text/html": [
       "<div>\n",
       "<style scoped>\n",
       "    .dataframe tbody tr th:only-of-type {\n",
       "        vertical-align: middle;\n",
       "    }\n",
       "\n",
       "    .dataframe tbody tr th {\n",
       "        vertical-align: top;\n",
       "    }\n",
       "\n",
       "    .dataframe thead th {\n",
       "        text-align: right;\n",
       "    }\n",
       "</style>\n",
       "<table border=\"1\" class=\"dataframe\">\n",
       "  <thead>\n",
       "    <tr style=\"text-align: right;\">\n",
       "      <th></th>\n",
       "      <th>reviews</th>\n",
       "      <th>sentiment_score</th>\n",
       "    </tr>\n",
       "  </thead>\n",
       "  <tbody>\n",
       "    <tr>\n",
       "      <th>0</th>\n",
       "      <td>fantastic Flight today cabin crew seat zone be...</td>\n",
       "      <td>0.99</td>\n",
       "    </tr>\n",
       "    <tr>\n",
       "      <th>2</th>\n",
       "      <td>London Heathrow Mumbai Boeing Business Class l...</td>\n",
       "      <td>0.98</td>\n",
       "    </tr>\n",
       "    <tr>\n",
       "      <th>11</th>\n",
       "      <td>Fast friendly check total contrast Gatwick con...</td>\n",
       "      <td>0.98</td>\n",
       "    </tr>\n",
       "    <tr>\n",
       "      <th>12</th>\n",
       "      <td>understand British Airways classified star air...</td>\n",
       "      <td>0.92</td>\n",
       "    </tr>\n",
       "    <tr>\n",
       "      <th>15</th>\n",
       "      <td>Another really great pair flights time problem...</td>\n",
       "      <td>0.98</td>\n",
       "    </tr>\n",
       "    <tr>\n",
       "      <th>...</th>\n",
       "      <td>...</td>\n",
       "      <td>...</td>\n",
       "    </tr>\n",
       "    <tr>\n",
       "      <th>3596</th>\n",
       "      <td>Chicago Hare London Heathrow check fast effici...</td>\n",
       "      <td>0.94</td>\n",
       "    </tr>\n",
       "    <tr>\n",
       "      <th>3597</th>\n",
       "      <td>Travelled board A Boarding efficient dedicated...</td>\n",
       "      <td>0.97</td>\n",
       "    </tr>\n",
       "    <tr>\n",
       "      <th>3602</th>\n",
       "      <td>Club World Boeing Bought ticket managed last m...</td>\n",
       "      <td>0.97</td>\n",
       "    </tr>\n",
       "    <tr>\n",
       "      <th>3603</th>\n",
       "      <td>July flew overnight premium economy chose flig...</td>\n",
       "      <td>0.95</td>\n",
       "    </tr>\n",
       "    <tr>\n",
       "      <th>3605</th>\n",
       "      <td>Flew return operated aircraft A aircraft clear...</td>\n",
       "      <td>0.95</td>\n",
       "    </tr>\n",
       "  </tbody>\n",
       "</table>\n",
       "<p>1208 rows × 2 columns</p>\n",
       "</div>"
      ],
      "text/plain": [
       "                                                reviews  sentiment_score\n",
       "0     fantastic Flight today cabin crew seat zone be...             0.99\n",
       "2     London Heathrow Mumbai Boeing Business Class l...             0.98\n",
       "11    Fast friendly check total contrast Gatwick con...             0.98\n",
       "12    understand British Airways classified star air...             0.92\n",
       "15    Another really great pair flights time problem...             0.98\n",
       "...                                                 ...              ...\n",
       "3596  Chicago Hare London Heathrow check fast effici...             0.94\n",
       "3597  Travelled board A Boarding efficient dedicated...             0.97\n",
       "3602  Club World Boeing Bought ticket managed last m...             0.97\n",
       "3603  July flew overnight premium economy chose flig...             0.95\n",
       "3605  Flew return operated aircraft A aircraft clear...             0.95\n",
       "\n",
       "[1208 rows x 2 columns]"
      ]
     },
     "execution_count": 28,
     "metadata": {},
     "output_type": "execute_result"
    }
   ],
   "source": [
    "pos_rev = rev[rev['sentiment_score'] > 0.9]\n",
    "pos_rev"
   ]
  },
  {
   "cell_type": "code",
   "execution_count": 29,
   "id": "13f2c2ea",
   "metadata": {},
   "outputs": [
    {
     "data": {
      "text/html": [
       "<div>\n",
       "<style scoped>\n",
       "    .dataframe tbody tr th:only-of-type {\n",
       "        vertical-align: middle;\n",
       "    }\n",
       "\n",
       "    .dataframe tbody tr th {\n",
       "        vertical-align: top;\n",
       "    }\n",
       "\n",
       "    .dataframe thead th {\n",
       "        text-align: right;\n",
       "    }\n",
       "</style>\n",
       "<table border=\"1\" class=\"dataframe\">\n",
       "  <thead>\n",
       "    <tr style=\"text-align: right;\">\n",
       "      <th></th>\n",
       "      <th>reviews</th>\n",
       "      <th>sentiment_score</th>\n",
       "    </tr>\n",
       "  </thead>\n",
       "  <tbody>\n",
       "    <tr>\n",
       "      <th>1</th>\n",
       "      <td>Couldn’ book online Arrived check find bumped ...</td>\n",
       "      <td>0.71</td>\n",
       "    </tr>\n",
       "    <tr>\n",
       "      <th>3</th>\n",
       "      <td>Keflavík Iceland London Heathrow A Business Cl...</td>\n",
       "      <td>0.08</td>\n",
       "    </tr>\n",
       "    <tr>\n",
       "      <th>4</th>\n",
       "      <td>Terrible Experience British Airways booked fli...</td>\n",
       "      <td>0.63</td>\n",
       "    </tr>\n",
       "    <tr>\n",
       "      <th>5</th>\n",
       "      <td>airline lives past glory heading future crisis...</td>\n",
       "      <td>0.32</td>\n",
       "    </tr>\n",
       "    <tr>\n",
       "      <th>6</th>\n",
       "      <td>Check Desk rude dismissive Flight late seems n...</td>\n",
       "      <td>-0.53</td>\n",
       "    </tr>\n",
       "    <tr>\n",
       "      <th>...</th>\n",
       "      <td>...</td>\n",
       "      <td>...</td>\n",
       "    </tr>\n",
       "    <tr>\n",
       "      <th>3610</th>\n",
       "      <td>Just back Bridgetown Barbados flying British A...</td>\n",
       "      <td>-0.83</td>\n",
       "    </tr>\n",
       "    <tr>\n",
       "      <th>3611</th>\n",
       "      <td>Check apart snapped early check come back minu...</td>\n",
       "      <td>0.46</td>\n",
       "    </tr>\n",
       "    <tr>\n",
       "      <th>3612</th>\n",
       "      <td>Purser addresses club passengers name boarding...</td>\n",
       "      <td>0.77</td>\n",
       "    </tr>\n",
       "    <tr>\n",
       "      <th>3613</th>\n",
       "      <td>worked British Airways urged British Airways K...</td>\n",
       "      <td>0.70</td>\n",
       "    </tr>\n",
       "    <tr>\n",
       "      <th>3615</th>\n",
       "      <td>BA B First Class aircraft seats private cabin ...</td>\n",
       "      <td>0.36</td>\n",
       "    </tr>\n",
       "  </tbody>\n",
       "</table>\n",
       "<p>1988 rows × 2 columns</p>\n",
       "</div>"
      ],
      "text/plain": [
       "                                                reviews  sentiment_score\n",
       "1     Couldn’ book online Arrived check find bumped ...             0.71\n",
       "3     Keflavík Iceland London Heathrow A Business Cl...             0.08\n",
       "4     Terrible Experience British Airways booked fli...             0.63\n",
       "5     airline lives past glory heading future crisis...             0.32\n",
       "6     Check Desk rude dismissive Flight late seems n...            -0.53\n",
       "...                                                 ...              ...\n",
       "3610  Just back Bridgetown Barbados flying British A...            -0.83\n",
       "3611  Check apart snapped early check come back minu...             0.46\n",
       "3612  Purser addresses club passengers name boarding...             0.77\n",
       "3613  worked British Airways urged British Airways K...             0.70\n",
       "3615  BA B First Class aircraft seats private cabin ...             0.36\n",
       "\n",
       "[1988 rows x 2 columns]"
      ]
     },
     "execution_count": 29,
     "metadata": {},
     "output_type": "execute_result"
    }
   ],
   "source": [
    "neg_rev = rev[rev['sentiment_score'] < 0.8]\n",
    "neg_rev"
   ]
  },
  {
   "cell_type": "code",
   "execution_count": 30,
   "id": "1f76d305",
   "metadata": {},
   "outputs": [
    {
     "data": {
      "text/plain": [
       "<seaborn.axisgrid.FacetGrid at 0x1f16e33ba30>"
      ]
     },
     "execution_count": 30,
     "metadata": {},
     "output_type": "execute_result"
    },
    {
     "data": {
      "image/png": "[encoded data removed]",
      "text/plain": [
       "<Figure size 360x360 with 1 Axes>"
      ]
     },
     "metadata": {
      "needs_background": "light"
     },
     "output_type": "display_data"
    }
   ],
   "source": [
    "sns.displot(rev['sentiment_score'], kde=True, palette='deep')"
   ]
  }
 ],
 "metadata": {
  "kernelspec": {
   "display_name": "Python 3 (ipykernel)",
   "language": "python",
   "name": "python3"
  },
  "language_info": {
   "codemirror_mode": {
    "name": "ipython",
    "version": 3
   },
   "file_extension": ".py",
   "mimetype": "text/x-python",
   "name": "python",
   "nbconvert_exporter": "python",
   "pygments_lexer": "ipython3",
   "version": "3.9.7"
  }
 },
 "nbformat": 4,
 "nbformat_minor": 5
}
